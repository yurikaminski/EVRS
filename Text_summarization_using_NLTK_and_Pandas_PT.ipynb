{
  "nbformat": 4,
  "nbformat_minor": 0,
  "metadata": {
    "colab": {
      "name": "Text summarization using NLTK and Pandas - PT.ipynb",
      "version": "0.3.2",
      "provenance": [],
      "collapsed_sections": [
        "hgbzVq9DuEOp",
        "uH28T0zBtyBk",
        "z0SgL0jkyUVm",
        "RTH417bcFi0u",
        "8GEzA_p1IP5o",
        "F3oDxgqaKg7E"
      ],
      "toc_visible": true,
      "include_colab_link": true
    },
    "kernelspec": {
      "name": "python3",
      "display_name": "Python 3"
    }
  },
  "cells": [
    {
      "cell_type": "markdown",
      "metadata": {
        "id": "view-in-github",
        "colab_type": "text"
      },
      "source": [
        "<a href=\"https://colab.research.google.com/github/yurikaminski/Saga/blob/master/Text_summarization_using_NLTK_and_Pandas_PT.ipynb\" target=\"_parent\"><img src=\"https://colab.research.google.com/assets/colab-badge.svg\" alt=\"Open In Colab\"/></a>"
      ]
    },
    {
      "cell_type": "markdown",
      "metadata": {
        "id": "iIrfU7Dys-Sy",
        "colab_type": "text"
      },
      "source": [
        "#Sumarização de textos com NLTK (Natural Language Toolkit) e Pandas em Português"
      ]
    },
    {
      "cell_type": "markdown",
      "metadata": {
        "id": "hgbzVq9DuEOp",
        "colab_type": "text"
      },
      "source": [
        "##1) Preparando as bibliotecas\n",
        "Utilizaremos as bibliotecas: \n",
        "1.  **urllib** para abrir o site alvo.\n",
        "2. **BeautifulSoup** para scanear o site e localizar o conteúdo que queremos sumarizar.\n",
        "3. **NLTK/tokenize** para tokenizar as palavras. \n",
        "4.  **NLTK/stopwords** para descartar palavras de uso comum - Stopwords (de, e, mas, para, a...).\n",
        "5. **NLTK/probability** para encontrar a frequência de aparição das palavras no texto.\n",
        "6. **Pandas** para manipular nossas listas de palavras e sentenças\n",
        "6. **String/punctuation** para descartar também as pontuações (Que são tokenizados também como palavras)\n",
        "7. **Collections/Defaultdict** para separar as sentenças mais importantes."
      ]
    },
    {
      "cell_type": "code",
      "metadata": {
        "id": "-gtMDpStp1Kb",
        "colab_type": "code",
        "outputId": "221265a1-b3e9-4aac-e339-e0de1fdc0c12",
        "colab": {
          "base_uri": "https://localhost:8080/",
          "height": 85
        }
      },
      "source": [
        "from urllib.request import Request, urlopen\n",
        "from bs4 import BeautifulSoup\n",
        "import nltk\n",
        "nltk.download('punkt')\n",
        "nltk.download('stopwords')\n",
        "from nltk.tokenize import word_tokenize\n",
        "from nltk.tokenize import sent_tokenize\n",
        "from nltk.corpus import stopwords\n",
        "from nltk.probability import FreqDist\n",
        "import pandas as pd\n",
        "from heapq import nlargest\n",
        "from string import punctuation\n",
        "from collections import defaultdict\n",
        "\n"
      ],
      "execution_count": 93,
      "outputs": [
        {
          "output_type": "stream",
          "text": [
            "[nltk_data] Downloading package punkt to /root/nltk_data...\n",
            "[nltk_data]   Package punkt is already up-to-date!\n",
            "[nltk_data] Downloading package stopwords to /root/nltk_data...\n",
            "[nltk_data]   Package stopwords is already up-to-date!\n"
          ],
          "name": "stdout"
        }
      ]
    },
    {
      "cell_type": "markdown",
      "metadata": {
        "id": "uH28T0zBtyBk",
        "colab_type": "text"
      },
      "source": [
        "##2) Acessamos e \"bufferizamos\" o site"
      ]
    },
    {
      "cell_type": "code",
      "metadata": {
        "id": "3gOk1GJJtxNR",
        "colab_type": "code",
        "colab": {}
      },
      "source": [
        "link = Request('http://ultimosegundo.ig.com.br/politica/2017-04-25/reforma-da-previdencia.html',\n",
        "               headers={'User-Agent': 'Mozilla/5.0'})\n",
        "pagina = urlopen(link).read().decode('utf-8', 'ignore')\n",
        "#print(pagina)"
      ],
      "execution_count": 0,
      "outputs": []
    },
    {
      "cell_type": "markdown",
      "metadata": {
        "id": "z0SgL0jkyUVm",
        "colab_type": "text"
      },
      "source": [
        "##3) Extraimos a notícia que nos interessa usando a biblioteca BeautifulSoup. \n",
        "O código depende da estrutura da página que estamos garimpando, ou seja, é preciso modificá-lo para garimpar outras páginas, ou criar alguma estrutura de regras para tentarmos \"adivinhar\" em que parte do HTML está o conteúdo do site. Nesse caso, a notícia se encontra em uma parte com div id=\"noticia\". Observe que existe uma imagem dentro dessa seção, podemos excluí-la também"
      ]
    },
    {
      "cell_type": "code",
      "metadata": {
        "id": "tDHO3GEQy10d",
        "colab_type": "code",
        "outputId": "3ba6f1ad-f571-4caf-cf85-c399cb35be82",
        "colab": {
          "base_uri": "https://localhost:8080/",
          "height": 513
        }
      },
      "source": [
        "soup = BeautifulSoup(pagina, \"lxml\")\n",
        "#soup.figcaption.decompose(id=\"img alt\")\n",
        "\n",
        "noticia = soup.find(id=\"noticia\")\n",
        "#print(noticia)\n",
        "#Vamos eliminar a imagem e sua legenda usando a função decompose\n",
        "noticia.figure.decompose()\n",
        "#print(noticia)\n",
        "text = noticia.text\n",
        "print(text)"
      ],
      "execution_count": 95,
      "outputs": [
        {
          "output_type": "stream",
          "text": [
            "\n",
            "\n",
            "A comissão especial que analisa a proposta de reforma da Previdência na Câmara dos Deputados inicia na tarde desta terça-feira (25) a discussão do                   relatório apresentado na semana passada pelo relator\n",
            ", deputado Arthur Maia (PPS-BA).\n",
            "Depois de fechar acordo com parlamentares da oposição, que tentavam obstruir a sessão de leitura do parecer do relator, o presidente da comissão da                   reforma da Previdência\n",
            ", deputado Carlos Marun (PMDB-MS), designou que todas as reuniões desta semana sejam para discutir o relatório e apresentar pedido de vista.\n",
            "O acordo com a oposição ainda definiu que a votação do relatório pelos membros da comissão deve ocorrer na próxima semana, dia 2 de maio. Já a partir do dia 8, o relatório estaria pronto para ser votado no plenário da Câmara dos Deputados. Para que isso aconteça, a equipe do governo Temer segue atuando para conquistar os votos necessários para aprovar as mudanças nas regras para a aposentadoria.\n",
            "Para reduzir a resistência à proposta, o Planalto aceitou flexibilizar alguns pontos do texto original, embora a maior parte das ideias iniciais tenha sido preservada. \n",
            "O relatório de Arthur Maia fixa a idade mínima de aposentadoria em 62 anos para as mulheres e em 65 anos para os homens após um período de transição de 20 anos. Ou seja, o aumento seria progressivo, começando em 53 e 55 anos, respectivamente, na data da promulgação da emenda.\n",
            "Para a aposentadoria por tempo de contribuição, o segurado terá que calcular quanto falta para se aposentar pelas regras atuais – 35 anos para o homem e 30 anos para a mulher – e adicionar um pedágio de 30%.\n",
            "Aí é só checar na tabela do aumento progressivo da idade, que começa em 53 anos para a mulher e 55 anos para o homem, e verificar qual idade mínima vai vigorar após este tempo. Pela tabela, a idade sobe um ano a cada dois anos a partir de 2020. Portanto, os 65 anos do homem só serão cobrados a partir de 2038.\n",
            "\n",
            "Leia também: Após assalto milionário no Paraguai, oito suspeitos são presos no Paraná\n",
            "\n",
            "Cronograma                  \n",
            "\n",
            "O líder do governo no Congresso, deputado André Moura (PSC), afirmou à                   TV Brasil\n",
            " que não cabe mais mudanças na proposta da reforma da Previdência. Segundo Moura, as modificações solicitadas pela base já foram feitas, e o texto a ser trabalhado para aprovação é o que já foi apresentado pelo relator na comissão especial. \"Esse é o entendimento do governo. Agora é esperar que a base, já que foi atendida, possa votar o texto apresentado pelo relator”, disse.\n",
            "Sobre a possibilidade de adiamento da data de votação da proposta, o líder garantiu que o cronograma está mantido e não será prorrogado. \"Não tem uma semana a mais. O cronograma estabelecido é o que será cumprido\", destacou.\n",
            "O líder reiterou que o plenário deve votar a reforma trabalhista nesta semana e, na próxima, a da Previdência. “Nesta terça, [devemos] concluir a votação da recuperação fiscal dos Estados, em plenário, e votar a Reforma Trabalhista amanhã [27], na comissão especial. Na quarta-feira [28], [votar] em plenário. Já na próxima semana, após o feriado, votar a reforma da Previdência na comissão especial, e, logo em seguida, no plenário”, afirmou.\n",
            "O relatório ainda pode ser alterado durante as discussões na Câmara. Para se tornar lei, a proposta de reforma da Previdência precisa, após ser aprovada na comissão especial, também passar por votação em dois turnos no plenário da Câmara e depois receber o aval do Senado. Caso os senadores modifiquem o texto, o projeto precisará retornar às mãos dos deputados.\n",
            "\n",
            "Leia também: Lava Jato: STJ recebe pedido de investigação contra governadores\n",
            "\n",
            "\n",
            "*Com informações da Agência Brasil e Agência Câmara\n",
            "\n",
            "\n"
          ],
          "name": "stdout"
        }
      ]
    },
    {
      "cell_type": "markdown",
      "metadata": {
        "id": "RTH417bcFi0u",
        "colab_type": "text"
      },
      "source": [
        "##4)  Vamos dividir o nosso texto em sentenças e em seguida em palavras  usando NLTK tokenization\n",
        "A tokenização consistem em separar as palavras ou sentenças em vetores de strings."
      ]
    },
    {
      "cell_type": "code",
      "metadata": {
        "id": "rrVK9w11FxDz",
        "colab_type": "code",
        "outputId": "f2734cea-7655-4d7f-ee43-9bca19af0196",
        "colab": {
          "base_uri": "https://localhost:8080/",
          "height": 54
        }
      },
      "source": [
        "sentences = sent_tokenize(text)\n",
        "print(sentences)\n",
        "words = word_tokenize(text)\n",
        "#print(words)"
      ],
      "execution_count": 163,
      "outputs": [
        {
          "output_type": "stream",
          "text": [
            "['\\n\\nA comissão especial que analisa a proposta de reforma da Previdência na Câmara dos Deputados inicia na tarde desta terça-feira (25) a discussão do                   relatório apresentado na semana passada pelo relator\\n, deputado Arthur Maia (PPS-BA).', 'Depois de fechar acordo com parlamentares da oposição, que tentavam obstruir a sessão de leitura do parecer do relator, o presidente da comissão da                   reforma da Previdência\\n, deputado Carlos Marun (PMDB-MS), designou que todas as reuniões desta semana sejam para discutir o relatório e apresentar pedido de vista.', 'O acordo com a oposição ainda definiu que a votação do relatório pelos membros da comissão deve ocorrer na próxima semana, dia 2 de maio.', 'Já a partir do dia 8, o relatório estaria pronto para ser votado no plenário da Câmara dos Deputados.', 'Para que isso aconteça, a equipe do governo Temer\\xa0segue atuando para conquistar os votos necessários para aprovar as mudanças nas regras para a aposentadoria.', 'Para reduzir a resistência à proposta, o\\xa0Planalto aceitou flexibilizar alguns pontos do texto original, embora a maior parte das ideias iniciais tenha sido preservada.', 'O relatório de Arthur Maia fixa a idade mínima de aposentadoria em 62 anos para as mulheres e em 65 anos para os homens após um período de transição de 20 anos.', 'Ou seja, o aumento seria progressivo, começando em 53 e 55 anos, respectivamente, na data da promulgação da emenda.', 'Para a aposentadoria por tempo de contribuição, o segurado terá que calcular quanto falta para se aposentar pelas regras atuais – 35 anos para o homem e 30 anos para a mulher – e adicionar um pedágio de 30%.', 'Aí é só checar na tabela do aumento progressivo da idade, que começa em 53 anos para a mulher e 55 anos para o homem, e verificar qual idade mínima vai vigorar após este tempo.', 'Pela tabela, a idade sobe um ano a cada dois anos a partir de 2020.', 'Portanto, os 65 anos do homem só serão cobrados a partir de 2038.', 'Leia também:\\xa0Após assalto milionário no Paraguai, oito suspeitos são presos no Paraná\\n\\nCronograma                  \\n\\nO líder do governo no Congresso, deputado André Moura (PSC), afirmou à                   TV Brasil\\n que não cabe mais mudanças na proposta da reforma da Previdência.', 'Segundo Moura, as modificações solicitadas pela base já foram feitas, e o texto a ser trabalhado para aprovação é o que já foi apresentado pelo relator na comissão especial.', '\"Esse é o entendimento do governo.', 'Agora é esperar que a base, já que foi atendida, possa votar o texto apresentado pelo relator”, disse.', 'Sobre a possibilidade de adiamento da data de votação da proposta, o líder garantiu que o cronograma está mantido e não será prorrogado.', '\"Não tem uma semana a mais.', 'O cronograma estabelecido é o que será cumprido\", destacou.', 'O líder reiterou que o plenário deve votar a reforma trabalhista nesta semana e, na próxima, a da Previdência.', '“Nesta terça, [devemos] concluir a votação da recuperação fiscal dos Estados, em plenário, e votar a Reforma Trabalhista amanhã [27], na comissão especial.', 'Na quarta-feira [28], [votar] em plenário.', 'Já na próxima semana, após o feriado, votar a reforma da Previdência na comissão especial, e, logo em seguida, no plenário”, afirmou.', 'O relatório ainda pode ser alterado durante as discussões na Câmara.', 'Para se tornar lei,\\xa0a proposta de reforma da Previdência precisa, após ser aprovada na comissão especial, também passar por votação em dois turnos no plenário da Câmara e depois receber o aval do Senado.', 'Caso os senadores modifiquem o texto, o projeto precisará retornar às mãos dos deputados.', 'Leia também:\\xa0Lava Jato: STJ recebe pedido de investigação contra governadores\\n\\n\\n*Com informações da Agência Brasil e Agência Câmara']\n"
          ],
          "name": "stdout"
        }
      ]
    },
    {
      "cell_type": "markdown",
      "metadata": {
        "id": "8GEzA_p1IP5o",
        "colab_type": "text"
      },
      "source": [
        "##5) Agora removemos as stopwords da nossa lista. Por serem muito frequentes, elas podem deturpar a análise que relaciona a frequencia à relevância."
      ]
    },
    {
      "cell_type": "code",
      "metadata": {
        "id": "EcfGaDDtInwQ",
        "colab_type": "code",
        "outputId": "0aa53c71-1d3c-4cd8-9e2c-79438956cf87",
        "colab": {
          "base_uri": "https://localhost:8080/",
          "height": 34
        }
      },
      "source": [
        "complete_stopwords = set(stopwords.words('portuguese') + list(punctuation))\n",
        "clean_words = [word for word in words if word not in complete_stopwords]\n",
        "print(clean_words[1:5])"
      ],
      "execution_count": 97,
      "outputs": [
        {
          "output_type": "stream",
          "text": [
            "['comissão', 'especial', 'analisa', 'proposta']\n"
          ],
          "name": "stdout"
        }
      ]
    },
    {
      "cell_type": "markdown",
      "metadata": {
        "id": "F3oDxgqaKg7E",
        "colab_type": "text"
      },
      "source": [
        "##6) Vamos analisar a distribuição de frequência das palavras\n",
        "A distribuição de frequência é a quantidade de vezes que uma palavra aparece no texto pelo número de palavras totais no texto. Além disso, vamos colocar essa lista em um Datadframe de pandas para fazermos algumas análises interessantes de maneira mais ágil."
      ]
    },
    {
      "cell_type": "code",
      "metadata": {
        "id": "iB2CCDnzKsZ3",
        "colab_type": "code",
        "outputId": "3d817897-e5ef-42d4-81f5-a34dd99f9567",
        "colab": {
          "base_uri": "https://localhost:8080/",
          "height": 204
        }
      },
      "source": [
        "frequency = FreqDist(clean_words)\n",
        "#Colocamos a estrutura em um dataframe para obtermos algumas estatísticas básicas\n",
        "frequency_pd = pd.DataFrame(list(frequency.items()), columns = [\"Word\",\"Frequency\"])\n",
        "frequency_pd.sort_values(by='Frequency', inplace=True, ascending=False)\n",
        "frequency_pd.head() #Displays the first 5 lines of the table"
      ],
      "execution_count": 173,
      "outputs": [
        {
          "output_type": "execute_result",
          "data": {
            "text/html": [
              "<div>\n",
              "<style scoped>\n",
              "    .dataframe tbody tr th:only-of-type {\n",
              "        vertical-align: middle;\n",
              "    }\n",
              "\n",
              "    .dataframe tbody tr th {\n",
              "        vertical-align: top;\n",
              "    }\n",
              "\n",
              "    .dataframe thead th {\n",
              "        text-align: right;\n",
              "    }\n",
              "</style>\n",
              "<table border=\"1\" class=\"dataframe\">\n",
              "  <thead>\n",
              "    <tr style=\"text-align: right;\">\n",
              "      <th></th>\n",
              "      <th>Word</th>\n",
              "      <th>Frequency</th>\n",
              "    </tr>\n",
              "  </thead>\n",
              "  <tbody>\n",
              "    <tr>\n",
              "      <th>98</th>\n",
              "      <td>anos</td>\n",
              "      <td>10</td>\n",
              "    </tr>\n",
              "    <tr>\n",
              "      <th>1</th>\n",
              "      <td>comissão</td>\n",
              "      <td>7</td>\n",
              "    </tr>\n",
              "    <tr>\n",
              "      <th>45</th>\n",
              "      <td>O</td>\n",
              "      <td>6</td>\n",
              "    </tr>\n",
              "    <tr>\n",
              "      <th>15</th>\n",
              "      <td>relatório</td>\n",
              "      <td>6</td>\n",
              "    </tr>\n",
              "    <tr>\n",
              "      <th>5</th>\n",
              "      <td>reforma</td>\n",
              "      <td>6</td>\n",
              "    </tr>\n",
              "  </tbody>\n",
              "</table>\n",
              "</div>"
            ],
            "text/plain": [
              "         Word  Frequency\n",
              "98       anos         10\n",
              "1    comissão          7\n",
              "45          O          6\n",
              "15  relatório          6\n",
              "5     reforma          6"
            ]
          },
          "metadata": {
            "tags": []
          },
          "execution_count": 173
        }
      ]
    },
    {
      "cell_type": "code",
      "metadata": {
        "id": "t_XmURX6VQHI",
        "colab_type": "code",
        "outputId": "f7b7c2c3-deb5-411a-e860-bd2cb97abb42",
        "colab": {
          "base_uri": "https://localhost:8080/",
          "height": 297
        }
      },
      "source": [
        "frequency_pd.describe()#Displays basic stats of the distribution"
      ],
      "execution_count": 99,
      "outputs": [
        {
          "output_type": "execute_result",
          "data": {
            "text/html": [
              "<div>\n",
              "<style scoped>\n",
              "    .dataframe tbody tr th:only-of-type {\n",
              "        vertical-align: middle;\n",
              "    }\n",
              "\n",
              "    .dataframe tbody tr th {\n",
              "        vertical-align: top;\n",
              "    }\n",
              "\n",
              "    .dataframe thead th {\n",
              "        text-align: right;\n",
              "    }\n",
              "</style>\n",
              "<table border=\"1\" class=\"dataframe\">\n",
              "  <thead>\n",
              "    <tr style=\"text-align: right;\">\n",
              "      <th></th>\n",
              "      <th>Frequency</th>\n",
              "    </tr>\n",
              "  </thead>\n",
              "  <tbody>\n",
              "    <tr>\n",
              "      <th>count</th>\n",
              "      <td>247.000000</td>\n",
              "    </tr>\n",
              "    <tr>\n",
              "      <th>mean</th>\n",
              "      <td>1.538462</td>\n",
              "    </tr>\n",
              "    <tr>\n",
              "      <th>std</th>\n",
              "      <td>1.258119</td>\n",
              "    </tr>\n",
              "    <tr>\n",
              "      <th>min</th>\n",
              "      <td>1.000000</td>\n",
              "    </tr>\n",
              "    <tr>\n",
              "      <th>25%</th>\n",
              "      <td>1.000000</td>\n",
              "    </tr>\n",
              "    <tr>\n",
              "      <th>50%</th>\n",
              "      <td>1.000000</td>\n",
              "    </tr>\n",
              "    <tr>\n",
              "      <th>75%</th>\n",
              "      <td>1.500000</td>\n",
              "    </tr>\n",
              "    <tr>\n",
              "      <th>max</th>\n",
              "      <td>10.000000</td>\n",
              "    </tr>\n",
              "  </tbody>\n",
              "</table>\n",
              "</div>"
            ],
            "text/plain": [
              "        Frequency\n",
              "count  247.000000\n",
              "mean     1.538462\n",
              "std      1.258119\n",
              "min      1.000000\n",
              "25%      1.000000\n",
              "50%      1.000000\n",
              "75%      1.500000\n",
              "max     10.000000"
            ]
          },
          "metadata": {
            "tags": []
          },
          "execution_count": 99
        }
      ]
    },
    {
      "cell_type": "markdown",
      "metadata": {
        "id": "hdTReitsYNFw",
        "colab_type": "text"
      },
      "source": [
        "##7) Criamos um escore para as sentenças, somando as frequências das palavras que aparecem nelas.\n",
        "Quanto mais palavras importantes aparecem na sentença, mais ela será considerada importante. No sumário, nós usaremos as N sentenças mais importantes do texto."
      ]
    },
    {
      "cell_type": "code",
      "metadata": {
        "id": "SU7Yy-reZ8-2",
        "colab_type": "code",
        "colab": {
          "base_uri": "https://localhost:8080/",
          "height": 204
        },
        "outputId": "82cf3ded-f00c-4c7f-ee10-c8699543274a"
      },
      "source": [
        "#Criamos um dataframe para colocar as sentenças e seus respectivos escores\n",
        "sentences_df = pd.DataFrame(columns=['Sentences','Orig_Index','Score'])\n",
        "sentences_df['Sentences'] = sentences\n",
        "sentences_df['Orig_Index'] = sentences_df.index\n",
        "sentences_df['Score'] = 0\n",
        "sentences_df.head()"
      ],
      "execution_count": 137,
      "outputs": [
        {
          "output_type": "execute_result",
          "data": {
            "text/html": [
              "<div>\n",
              "<style scoped>\n",
              "    .dataframe tbody tr th:only-of-type {\n",
              "        vertical-align: middle;\n",
              "    }\n",
              "\n",
              "    .dataframe tbody tr th {\n",
              "        vertical-align: top;\n",
              "    }\n",
              "\n",
              "    .dataframe thead th {\n",
              "        text-align: right;\n",
              "    }\n",
              "</style>\n",
              "<table border=\"1\" class=\"dataframe\">\n",
              "  <thead>\n",
              "    <tr style=\"text-align: right;\">\n",
              "      <th></th>\n",
              "      <th>Sentences</th>\n",
              "      <th>Orig_Index</th>\n",
              "      <th>Score</th>\n",
              "    </tr>\n",
              "  </thead>\n",
              "  <tbody>\n",
              "    <tr>\n",
              "      <th>0</th>\n",
              "      <td>\\n\\nA comissão especial que analisa a proposta...</td>\n",
              "      <td>0</td>\n",
              "      <td>0</td>\n",
              "    </tr>\n",
              "    <tr>\n",
              "      <th>1</th>\n",
              "      <td>Depois de fechar acordo com parlamentares da o...</td>\n",
              "      <td>1</td>\n",
              "      <td>0</td>\n",
              "    </tr>\n",
              "    <tr>\n",
              "      <th>2</th>\n",
              "      <td>O acordo com a oposição ainda definiu que a vo...</td>\n",
              "      <td>2</td>\n",
              "      <td>0</td>\n",
              "    </tr>\n",
              "    <tr>\n",
              "      <th>3</th>\n",
              "      <td>Já a partir do dia 8, o relatório estaria pron...</td>\n",
              "      <td>3</td>\n",
              "      <td>0</td>\n",
              "    </tr>\n",
              "    <tr>\n",
              "      <th>4</th>\n",
              "      <td>Para que isso aconteça, a equipe do governo Te...</td>\n",
              "      <td>4</td>\n",
              "      <td>0</td>\n",
              "    </tr>\n",
              "  </tbody>\n",
              "</table>\n",
              "</div>"
            ],
            "text/plain": [
              "                                           Sentences  Orig_Index  Score\n",
              "0  \\n\\nA comissão especial que analisa a proposta...           0      0\n",
              "1  Depois de fechar acordo com parlamentares da o...           1      0\n",
              "2  O acordo com a oposição ainda definiu que a vo...           2      0\n",
              "3  Já a partir do dia 8, o relatório estaria pron...           3      0\n",
              "4  Para que isso aconteça, a equipe do governo Te...           4      0"
            ]
          },
          "metadata": {
            "tags": []
          },
          "execution_count": 137
        }
      ]
    },
    {
      "cell_type": "code",
      "metadata": {
        "id": "wn7c_xRKclaK",
        "colab_type": "code",
        "colab": {
          "base_uri": "https://localhost:8080/",
          "height": 204
        },
        "outputId": "cc104a38-68af-4cce-dadb-87834bec7ea0"
      },
      "source": [
        "#Em seguida populamos a coluna escore com a soma da frequencia de cada palavra que compõe a frase:\n",
        "\n",
        "for i,sentence in enumerate(sentences):\n",
        "    score = 0\n",
        "    for word in word_tokenize(sentence):\n",
        "      if word in frequency:\n",
        "        score += frequency[word]\n",
        "    sentences_df.loc[i,'Score']=score\n",
        "    #print(i,score)\n",
        "\n",
        "sentences_df.head()"
      ],
      "execution_count": 164,
      "outputs": [
        {
          "output_type": "execute_result",
          "data": {
            "text/html": [
              "<div>\n",
              "<style scoped>\n",
              "    .dataframe tbody tr th:only-of-type {\n",
              "        vertical-align: middle;\n",
              "    }\n",
              "\n",
              "    .dataframe tbody tr th {\n",
              "        vertical-align: top;\n",
              "    }\n",
              "\n",
              "    .dataframe thead th {\n",
              "        text-align: right;\n",
              "    }\n",
              "</style>\n",
              "<table border=\"1\" class=\"dataframe\">\n",
              "  <thead>\n",
              "    <tr style=\"text-align: right;\">\n",
              "      <th></th>\n",
              "      <th>Sentences</th>\n",
              "      <th>Orig_Index</th>\n",
              "      <th>Score</th>\n",
              "    </tr>\n",
              "  </thead>\n",
              "  <tbody>\n",
              "    <tr>\n",
              "      <th>26</th>\n",
              "      <td>Leia também: Lava Jato: STJ recebe pedido de i...</td>\n",
              "      <td>26</td>\n",
              "      <td>24</td>\n",
              "    </tr>\n",
              "    <tr>\n",
              "      <th>25</th>\n",
              "      <td>Caso os senadores modifiquem o texto, o projet...</td>\n",
              "      <td>25</td>\n",
              "      <td>12</td>\n",
              "    </tr>\n",
              "    <tr>\n",
              "      <th>24</th>\n",
              "      <td>Para se tornar lei, a proposta de reforma da P...</td>\n",
              "      <td>24</td>\n",
              "      <td>67</td>\n",
              "    </tr>\n",
              "    <tr>\n",
              "      <th>23</th>\n",
              "      <td>O relatório ainda pode ser alterado durante as...</td>\n",
              "      <td>23</td>\n",
              "      <td>27</td>\n",
              "    </tr>\n",
              "    <tr>\n",
              "      <th>22</th>\n",
              "      <td>Já na próxima semana, após o feriado, votar a ...</td>\n",
              "      <td>22</td>\n",
              "      <td>57</td>\n",
              "    </tr>\n",
              "  </tbody>\n",
              "</table>\n",
              "</div>"
            ],
            "text/plain": [
              "                                            Sentences  Orig_Index  Score\n",
              "26  Leia também: Lava Jato: STJ recebe pedido de i...          26     24\n",
              "25  Caso os senadores modifiquem o texto, o projet...          25     12\n",
              "24  Para se tornar lei, a proposta de reforma da P...          24     67\n",
              "23  O relatório ainda pode ser alterado durante as...          23     27\n",
              "22  Já na próxima semana, após o feriado, votar a ...          22     57"
            ]
          },
          "metadata": {
            "tags": []
          },
          "execution_count": 164
        }
      ]
    },
    {
      "cell_type": "markdown",
      "metadata": {
        "id": "HuDQCQ_3KHP_",
        "colab_type": "text"
      },
      "source": [
        "##8) Agora ordenamos pelo escore e escolhemos os 10 maiores pesos.\n",
        "Cortamos o dataframe com os 10 maiores pesos e reordenamos baseados no índice original para que as sentenças sejam escritas na ordem em que aparecem no texto original."
      ]
    },
    {
      "cell_type": "code",
      "metadata": {
        "id": "5LC5PDNVVDDN",
        "colab_type": "code",
        "colab": {
          "base_uri": "https://localhost:8080/",
          "height": 204
        },
        "outputId": "4fddfd01-48ba-4376-d498-390969bd99a7"
      },
      "source": [
        "sentences_df.sort_values(by='Score',inplace = True, ascending=False)\n",
        "#sentences_df.head()\n",
        "top = 10\n",
        "important_sentences_df = pd.DataFrame(sentences_df[0:top])\n",
        "important_sentences_df.sort_values(by='Orig_Index',inplace = True, ascending=True)\n",
        "#important_sentences_df.head()\n",
        "print(important_sentences_df['Sentences'])"
      ],
      "execution_count": 172,
      "outputs": [
        {
          "output_type": "stream",
          "text": [
            "0     \\n\\nA comissão especial que analisa a proposta...\n",
            "1     Depois de fechar acordo com parlamentares da o...\n",
            "2     O acordo com a oposição ainda definiu que a vo...\n",
            "6     O relatório de Arthur Maia fixa a idade mínima...\n",
            "8     Para a aposentadoria por tempo de contribuição...\n",
            "9     Aí é só checar na tabela do aumento progressiv...\n",
            "12    Leia também: Após assalto milionário no Paragu...\n",
            "19    O líder reiterou que o plenário deve votar a r...\n",
            "22    Já na próxima semana, após o feriado, votar a ...\n",
            "24    Para se tornar lei, a proposta de reforma da P...\n",
            "Name: Sentences, dtype: object\n"
          ],
          "name": "stdout"
        }
      ]
    }
  ]
}